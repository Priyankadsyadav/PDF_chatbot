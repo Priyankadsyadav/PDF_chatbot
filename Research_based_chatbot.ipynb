{
 "cells": [
  {
   "cell_type": "code",
   "execution_count": 12,
   "metadata": {},
   "outputs": [
    {
     "data": {
      "text/plain": [
       "True"
      ]
     },
     "execution_count": 12,
     "metadata": {},
     "output_type": "execute_result"
    }
   ],
   "source": [
    "import os\n",
    "from dotenv import load_dotenv\n",
    "load_dotenv()"
   ]
  },
  {
   "cell_type": "code",
   "execution_count": 13,
   "metadata": {},
   "outputs": [],
   "source": [
    "#Calling .env and getting all the api key \n",
    "os.environ[\"GROQ_API_KEY\"]=os.getenv(\"GROQ_API_KEY\")"
   ]
  },
  {
   "cell_type": "code",
   "execution_count": 14,
   "metadata": {},
   "outputs": [
    {
     "data": {
      "text/plain": [
       "AIMessage(content='मैं अच्छा हूँ, धन्यवाद! आप कैसे हैं? \\n', additional_kwargs={}, response_metadata={'token_usage': {'completion_tokens': 18, 'prompt_tokens': 16, 'total_tokens': 34, 'completion_time': 0.032727273, 'prompt_time': 0.001938636, 'queue_time': 0.291935573, 'total_time': 0.034665909}, 'model_name': 'gemma2-9b-it', 'system_fingerprint': 'fp_10c08bf97d', 'finish_reason': 'stop', 'logprobs': None}, id='run-1aa6ddd7-8558-4305-8bce-082f3763f221-0', usage_metadata={'input_tokens': 16, 'output_tokens': 18, 'total_tokens': 34})"
      ]
     },
     "execution_count": 14,
     "metadata": {},
     "output_type": "execute_result"
    }
   ],
   "source": [
    "#Defining model\n",
    "\n",
    "from langchain_groq import ChatGroq\n",
    "llm=ChatGroq(model=\"gemma2-9b-it\")\n",
    "llm.invoke(\"Kaise ho and answer in hindi\")"
   ]
  },
  {
   "cell_type": "code",
   "execution_count": 15,
   "metadata": {},
   "outputs": [],
   "source": [
    "from langchain_text_splitters import RecursiveCharacterTextSplitter\n",
    "from langchain.document_loaders import PyPDFLoader\n",
    "from langchain_community.embeddings import HuggingFaceEmbeddings\n",
    "\n"
   ]
  },
  {
   "cell_type": "code",
   "execution_count": 16,
   "metadata": {},
   "outputs": [
    {
     "name": "stderr",
     "output_type": "stream",
     "text": [
      "Multiple definitions in dictionary at byte 0x69b for key /Group\n",
      "Multiple definitions in dictionary at byte 0x2a39d for key /Group\n",
      "Multiple definitions in dictionary at byte 0x2d349 for key /Group\n",
      "Multiple definitions in dictionary at byte 0x396ad for key /Group\n",
      "Multiple definitions in dictionary at byte 0x3ebad for key /Group\n",
      "Multiple definitions in dictionary at byte 0x40103 for key /Group\n",
      "Multiple definitions in dictionary at byte 0x41cf1 for key /Group\n",
      "Multiple definitions in dictionary at byte 0x43fce for key /Group\n",
      "Multiple definitions in dictionary at byte 0x4579e for key /Group\n",
      "Multiple definitions in dictionary at byte 0x4614c for key /Group\n",
      "Multiple definitions in dictionary at byte 0x46824 for key /Group\n",
      "Multiple definitions in dictionary at byte 0x54836 for key /Group\n",
      "Multiple definitions in dictionary at byte 0x69b75 for key /Group\n",
      "Multiple definitions in dictionary at byte 0x78ab2 for key /Group\n",
      "Multiple definitions in dictionary at byte 0x8e70d for key /Group\n",
      "Multiple definitions in dictionary at byte 0x8ead3 for key /Group\n",
      "Multiple definitions in dictionary at byte 0xb485d for key /Group\n",
      "Multiple definitions in dictionary at byte 0xb4c9d for key /Group\n",
      "Multiple definitions in dictionary at byte 0xb5623 for key /Group\n",
      "Multiple definitions in dictionary at byte 0xb5e67 for key /Group\n",
      "Multiple definitions in dictionary at byte 0xb7d84 for key /Group\n",
      "Multiple definitions in dictionary at byte 0xebf76 for key /Group\n",
      "Multiple definitions in dictionary at byte 0xec670 for key /Group\n",
      "Multiple definitions in dictionary at byte 0xeeb20 for key /Group\n",
      "Multiple definitions in dictionary at byte 0xef26c for key /Group\n",
      "Multiple definitions in dictionary at byte 0x1b15a9 for key /Group\n",
      "Multiple definitions in dictionary at byte 0x1b1e4b for key /Group\n",
      "Multiple definitions in dictionary at byte 0x1db331 for key /Group\n",
      "Multiple definitions in dictionary at byte 0x1dcf4e for key /Group\n",
      "Multiple definitions in dictionary at byte 0x1dd4a6 for key /Group\n",
      "Multiple definitions in dictionary at byte 0x1ddf6f for key /Group\n",
      "Multiple definitions in dictionary at byte 0x1de7b5 for key /Group\n",
      "Multiple definitions in dictionary at byte 0x1e08e5 for key /Group\n",
      "Multiple definitions in dictionary at byte 0x1e294e for key /Group\n",
      "Multiple definitions in dictionary at byte 0x1e34ab for key /Group\n",
      "Multiple definitions in dictionary at byte 0x1e4142 for key /Group\n",
      "Multiple definitions in dictionary at byte 0x1e4e34 for key /Group\n",
      "Multiple definitions in dictionary at byte 0x1e571b for key /Group\n",
      "Multiple definitions in dictionary at byte 0x1e67fa for key /Group\n",
      "Multiple definitions in dictionary at byte 0x1e9563 for key /Group\n",
      "Multiple definitions in dictionary at byte 0x208595 for key /Group\n",
      "Multiple definitions in dictionary at byte 0x20e94e for key /Group\n",
      "Multiple definitions in dictionary at byte 0x20f110 for key /Group\n",
      "Multiple definitions in dictionary at byte 0x21152e for key /Group\n",
      "Multiple definitions in dictionary at byte 0x2135e5 for key /Group\n",
      "Multiple definitions in dictionary at byte 0x2162b3 for key /Group\n",
      "Multiple definitions in dictionary at byte 0x21680b for key /Group\n",
      "Multiple definitions in dictionary at byte 0x216c23 for key /Group\n",
      "Multiple definitions in dictionary at byte 0x217540 for key /Group\n",
      "Multiple definitions in dictionary at byte 0x217d93 for key /Group\n",
      "Multiple definitions in dictionary at byte 0x2192ec for key /Group\n",
      "Multiple definitions in dictionary at byte 0x21a681 for key /Group\n",
      "Multiple definitions in dictionary at byte 0x21e233 for key /Group\n",
      "Multiple definitions in dictionary at byte 0x21ea70 for key /Group\n",
      "Multiple definitions in dictionary at byte 0x21f424 for key /Group\n",
      "Multiple definitions in dictionary at byte 0x22010c for key /Group\n",
      "Multiple definitions in dictionary at byte 0x220741 for key /Group\n",
      "Multiple definitions in dictionary at byte 0x22ca4e for key /Group\n",
      "Multiple definitions in dictionary at byte 0x23986c for key /Group\n",
      "Multiple definitions in dictionary at byte 0x250ff1 for key /Group\n",
      "Multiple definitions in dictionary at byte 0x25134f for key /Group\n",
      "Multiple definitions in dictionary at byte 0x2518d8 for key /Group\n",
      "Multiple definitions in dictionary at byte 0x251fcc for key /Group\n",
      "Multiple definitions in dictionary at byte 0x25264c for key /Group\n",
      "Multiple definitions in dictionary at byte 0x252e38 for key /Group\n",
      "Multiple definitions in dictionary at byte 0x25379a for key /Group\n",
      "Multiple definitions in dictionary at byte 0x254069 for key /Group\n"
     ]
    }
   ],
   "source": [
    "# Load PDF\n",
    "loader = PyPDFLoader(\"./content/01_NeuralNetworks_handout.pdf\")\n",
    "document = loader.load()"
   ]
  },
  {
   "cell_type": "code",
   "execution_count": 17,
   "metadata": {},
   "outputs": [],
   "source": [
    "text_splitter=RecursiveCharacterTextSplitter(chunk_size=1000,chunk_overlap=200)\n",
    "chunks=text_splitter.split_documents(document)"
   ]
  },
  {
   "cell_type": "code",
   "execution_count": 18,
   "metadata": {},
   "outputs": [],
   "source": [
    "from langchain.vectorstores import FAISS\n",
    "\n",
    "# create embeddings\n",
    "\n",
    "from langchain_community.embeddings import HuggingFaceEmbeddings\n",
    "\n",
    "embeddings=HuggingFaceEmbeddings(model_name=\"all-MiniLM-L6-v2\")"
   ]
  },
  {
   "cell_type": "code",
   "execution_count": 19,
   "metadata": {},
   "outputs": [],
   "source": [
    "db=FAISS.from_documents(documents=chunks,embedding=embeddings)"
   ]
  },
  {
   "cell_type": "code",
   "execution_count": 20,
   "metadata": {},
   "outputs": [],
   "source": [
    "from langchain.chains import ConversationalRetrievalChain\n",
    "from langchain.prompts import PromptTemplate\n",
    "\n",
    "CONDENSE_QUESTION_PROMPT=PromptTemplate.from_template(\"\"\"Given the following converstation and follow up question,rephrase the foloow up question to be a standalone question\n",
    "Chat_history:\n",
    "{chat_history} \n",
    "Follow up Input : {question}\n",
    "Standalone questions: \"\"\")\n",
    "\n",
    "qa=ConversationalRetrievalChain.from_llm(llm=llm,retriever=db.as_retriever(),condense_question_llm=CONDENSE_QUESTION_PROMPT,return_source_documents=True,verbose=False)"
   ]
  },
  {
   "cell_type": "code",
   "execution_count": 21,
   "metadata": {},
   "outputs": [
    {
     "name": "stdout",
     "output_type": "stream",
     "text": [
      "This handout discusses feed forward neural networks, focusing on perceptrons. It explains how perceptrons make classification decisions based on the sign of a weighted sum of inputs.  The handout also highlights the \"Credit Assignment Problem,\" which  describes the difficulty in adjusting network parameters when performance is poor.  Finally, it touches on the concept of activation functions. \n",
      "\n",
      "\n",
      "\n",
      "\n"
     ]
    }
   ],
   "source": [
    "#Ask a query\n",
    "\n",
    "chat_history=[]\n",
    "query=\"\"\"What is this handout about in 5 lines?\"\"\"\n",
    "result=qa({\"question\":query,\"chat_history\":chat_history})\n",
    "print(result[\"answer\"])"
   ]
  },
  {
   "cell_type": "code",
   "execution_count": null,
   "metadata": {},
   "outputs": [],
   "source": []
  },
  {
   "cell_type": "code",
   "execution_count": null,
   "metadata": {},
   "outputs": [],
   "source": []
  },
  {
   "cell_type": "code",
   "execution_count": null,
   "metadata": {},
   "outputs": [],
   "source": []
  },
  {
   "cell_type": "code",
   "execution_count": null,
   "metadata": {},
   "outputs": [],
   "source": []
  },
  {
   "cell_type": "code",
   "execution_count": null,
   "metadata": {},
   "outputs": [],
   "source": []
  },
  {
   "cell_type": "code",
   "execution_count": null,
   "metadata": {},
   "outputs": [],
   "source": []
  },
  {
   "cell_type": "code",
   "execution_count": null,
   "metadata": {},
   "outputs": [],
   "source": []
  },
  {
   "cell_type": "code",
   "execution_count": null,
   "metadata": {},
   "outputs": [],
   "source": []
  },
  {
   "cell_type": "code",
   "execution_count": null,
   "metadata": {},
   "outputs": [],
   "source": []
  },
  {
   "cell_type": "code",
   "execution_count": null,
   "metadata": {},
   "outputs": [],
   "source": []
  },
  {
   "cell_type": "code",
   "execution_count": null,
   "metadata": {},
   "outputs": [],
   "source": []
  },
  {
   "cell_type": "code",
   "execution_count": null,
   "metadata": {},
   "outputs": [],
   "source": []
  },
  {
   "cell_type": "code",
   "execution_count": null,
   "metadata": {},
   "outputs": [],
   "source": []
  },
  {
   "cell_type": "code",
   "execution_count": null,
   "metadata": {},
   "outputs": [],
   "source": []
  },
  {
   "cell_type": "code",
   "execution_count": null,
   "metadata": {},
   "outputs": [],
   "source": []
  },
  {
   "cell_type": "code",
   "execution_count": null,
   "metadata": {},
   "outputs": [],
   "source": []
  },
  {
   "cell_type": "code",
   "execution_count": null,
   "metadata": {},
   "outputs": [],
   "source": []
  },
  {
   "cell_type": "code",
   "execution_count": null,
   "metadata": {},
   "outputs": [],
   "source": []
  },
  {
   "cell_type": "code",
   "execution_count": null,
   "metadata": {},
   "outputs": [],
   "source": []
  },
  {
   "cell_type": "code",
   "execution_count": null,
   "metadata": {},
   "outputs": [],
   "source": []
  },
  {
   "cell_type": "code",
   "execution_count": null,
   "metadata": {},
   "outputs": [],
   "source": []
  },
  {
   "cell_type": "code",
   "execution_count": null,
   "metadata": {},
   "outputs": [],
   "source": []
  },
  {
   "cell_type": "code",
   "execution_count": null,
   "metadata": {},
   "outputs": [],
   "source": []
  },
  {
   "cell_type": "code",
   "execution_count": null,
   "metadata": {},
   "outputs": [],
   "source": []
  },
  {
   "cell_type": "code",
   "execution_count": null,
   "metadata": {},
   "outputs": [],
   "source": []
  },
  {
   "cell_type": "code",
   "execution_count": null,
   "metadata": {},
   "outputs": [],
   "source": []
  },
  {
   "cell_type": "code",
   "execution_count": null,
   "metadata": {},
   "outputs": [],
   "source": []
  },
  {
   "cell_type": "code",
   "execution_count": null,
   "metadata": {},
   "outputs": [],
   "source": []
  }
 ],
 "metadata": {
  "kernelspec": {
   "display_name": "Python 3",
   "language": "python",
   "name": "python3"
  },
  "language_info": {
   "codemirror_mode": {
    "name": "ipython",
    "version": 3
   },
   "file_extension": ".py",
   "mimetype": "text/x-python",
   "name": "python",
   "nbconvert_exporter": "python",
   "pygments_lexer": "ipython3",
   "version": "3.12.0"
  }
 },
 "nbformat": 4,
 "nbformat_minor": 2
}
